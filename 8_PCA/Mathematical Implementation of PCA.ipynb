{
  "nbformat": 4,
  "nbformat_minor": 0,
  "metadata": {
    "colab": {
      "provenance": []
    },
    "kernelspec": {
      "name": "python3",
      "display_name": "Python 3"
    },
    "language_info": {
      "name": "python"
    }
  },
  "cells": [
    {
      "cell_type": "markdown",
      "source": [
        "#**Mathematical Implementation of PCA**"
      ],
      "metadata": {
        "id": "4FlGTe1zm2YE"
      }
    },
    {
      "cell_type": "markdown",
      "source": [
        "Creating Dataset"
      ],
      "metadata": {
        "id": "mwlC6HW2nBtP"
      }
    },
    {
      "cell_type": "code",
      "execution_count": 3,
      "metadata": {
        "id": "5bzHekNeYn7u",
        "colab": {
          "base_uri": "https://localhost:8080/"
        },
        "collapsed": true,
        "outputId": "12712e6b-1931-4fd9-ad9c-8e99e4622bf2"
      },
      "outputs": [
        {
          "output_type": "stream",
          "name": "stdout",
          "text": [
            "[[ 1  5]\n",
            " [ 3  7]\n",
            " [ 5 11]\n",
            " [ 7 14]\n",
            " [ 9 15]\n",
            " [13 17]\n",
            " [20 18]\n",
            " [20 19]\n",
            " [21 21]\n",
            " [24 22]\n",
            " [26 26]]\n"
          ]
        }
      ],
      "source": [
        "import numpy as np\n",
        "X=np.array([[1,3,5,7,9,13,20,20,21,24,26],[5,7,11,14,15,17,18,19,21,22,26]]) #2row 11 col(2D array)\n",
        "X=X.T #tranpose of X\n",
        "print(X) #Dataset-> 2feature(x1,x2) & 11 sample"
      ]
    },
    {
      "cell_type": "code",
      "source": [
        "import matplotlib.pyplot as plt\n",
        "plt.scatter(X[:,0],X[:,1]) #X[all rows:col number]\n",
        "plt.show()"
      ],
      "metadata": {
        "colab": {
          "base_uri": "https://localhost:8080/",
          "height": 430
        },
        "id": "Gd0lN9LBnv5I",
        "outputId": "749ebb8f-3cad-4c22-f361-d3e5a3414aa4"
      },
      "execution_count": 4,
      "outputs": [
        {
          "output_type": "display_data",
          "data": {
            "text/plain": [
              "<Figure size 640x480 with 1 Axes>"
            ],
            "image/png": "[encoded data removed]"
          },
          "metadata": {}
        }
      ]
    },
    {
      "cell_type": "markdown",
      "source": [
        "Normalise Data (shift mean to 0)"
      ],
      "metadata": {
        "id": "zG8jcgZ4orwP"
      }
    },
    {
      "cell_type": "code",
      "source": [
        "#taking mean of each col and subtract with each data\n",
        "X_meaned=X-np.mean(X,axis=0) #axis=0 for col\n",
        "print(X_meaned)\n",
        "plt.figure()\n",
        "plt.scatter(X_meaned[:,0],X_meaned[:,1])\n",
        "plt.scatter(X[:,0],X[:,1])\n",
        "plt.show()\n",
        "#Mean of blue=0\n",
        "#blue=Normalised Dataset\n",
        "#orange=Original Dataset"
      ],
      "metadata": {
        "colab": {
          "base_uri": "https://localhost:8080/",
          "height": 621
        },
        "collapsed": true,
        "id": "AdGNz01zog7a",
        "outputId": "fd49f909-133a-409a-fa25-fe3c47d907a9"
      },
      "execution_count": 5,
      "outputs": [
        {
          "output_type": "stream",
          "name": "stdout",
          "text": [
            "[[-12.54545455 -10.90909091]\n",
            " [-10.54545455  -8.90909091]\n",
            " [ -8.54545455  -4.90909091]\n",
            " [ -6.54545455  -1.90909091]\n",
            " [ -4.54545455  -0.90909091]\n",
            " [ -0.54545455   1.09090909]\n",
            " [  6.45454545   2.09090909]\n",
            " [  6.45454545   3.09090909]\n",
            " [  7.45454545   5.09090909]\n",
            " [ 10.45454545   6.09090909]\n",
            " [ 12.45454545  10.09090909]]\n"
          ]
        },
        {
          "output_type": "display_data",
          "data": {
            "text/plain": [
              "<Figure size 640x480 with 1 Axes>"
            ],
            "image/png": "[encoded data removed]"
          },
          "metadata": {}
        }
      ]
    },
    {
      "cell_type": "markdown",
      "source": [
        "Calculate **Co-Variance Matrix**"
      ],
      "metadata": {
        "id": "rnK_gcWxAKwC"
      }
    },
    {
      "cell_type": "code",
      "source": [
        "C=np.cov(X_meaned,rowvar=False) #rowvar=False for col\n",
        "print(C) #2x2 Symmetric Matrix"
      ],
      "metadata": {
        "colab": {
          "base_uri": "https://localhost:8080/"
        },
        "id": "3rrRsLhYpJWi",
        "outputId": "b75f6e0e-be4a-47a8-a2ee-ce61e19c9779"
      },
      "execution_count": 6,
      "outputs": [
        {
          "output_type": "stream",
          "name": "stdout",
          "text": [
            "[[80.87272727 54.95454545]\n",
            " [54.95454545 40.69090909]]\n"
          ]
        }
      ]
    },
    {
      "cell_type": "markdown",
      "source": [
        "Calculate **EigenValue** & **EigenVcetor**"
      ],
      "metadata": {
        "id": "kk6xXhKcAzhC"
      }
    },
    {
      "cell_type": "code",
      "source": [
        "eval,evec=np.linalg.eig(C) # Calculate eigenvalues and eigenvectors of the covariance matrix\n",
        "print(eval) # Print the eigenvalues\n",
        "print(evec) # Print the eigenvectors"
      ],
      "metadata": {
        "colab": {
          "base_uri": "https://localhost:8080/"
        },
        "id": "8gwMCt51Aahv",
        "outputId": "25e7bd9b-f9be-4526-f83e-12e47b68ceb1"
      },
      "execution_count": 9,
      "outputs": [
        {
          "output_type": "stream",
          "name": "stdout",
          "text": [
            "[119.29375452   2.26988184]\n",
            "[[ 0.81956216 -0.57299028]\n",
            " [ 0.57299028  0.81956216]]\n"
          ]
        }
      ]
    },
    {
      "cell_type": "markdown",
      "source": [
        "**Biggest Eigen Value** give Principal Eigen Vector(PEV)\n",
        "\n",
        "Data projected in that PEV has **MAX VARIANCE**"
      ],
      "metadata": {
        "id": "ec76VA2aBO4y"
      }
    },
    {
      "cell_type": "code",
      "source": [
        "#sort eigen value and eigen vector in des order\n",
        "sorted_index=np.argsort(eval)[::-1] # Get the indices that would sort the eigenvalues in descending order\n",
        "sorted_eval=eval[sorted_index] # Sort the eigenvalues in descending order\n",
        "sorted_evec=evec[:,sorted_index] # Sort the eigenvectors based on the sorted eigenvalue indices\n",
        "print(sorted_eval) # Print the sorted eigenvalues\n",
        "print(sorted_evec) # Print the sorted eigenvectors"
      ],
      "metadata": {
        "colab": {
          "base_uri": "https://localhost:8080/"
        },
        "collapsed": true,
        "id": "OfENshB4BGiP",
        "outputId": "e362e536-b8df-4a78-da80-af834d6fbb51"
      },
      "execution_count": 10,
      "outputs": [
        {
          "output_type": "stream",
          "name": "stdout",
          "text": [
            "[119.29375452   2.26988184]\n",
            "[[ 0.81956216 -0.57299028]\n",
            " [ 0.57299028  0.81956216]]\n"
          ]
        }
      ]
    },
    {
      "cell_type": "markdown",
      "source": [
        "2Dimensionality-> 1Dimensionality"
      ],
      "metadata": {
        "id": "PMlGeKlODYSk"
      }
    },
    {
      "cell_type": "code",
      "source": [
        "n=1\n",
        "evec_subset=sorted_evec[:,0:n] # take only first(largest) eigen Vector\n",
        "print(evec_subset) #eigen vector corresponding to Biggest eigen Value"
      ],
      "metadata": {
        "colab": {
          "base_uri": "https://localhost:8080/"
        },
        "collapsed": true,
        "id": "m72xdv8KCpDi",
        "outputId": "f6e2891a-6e77-4eff-f25d-065d3170f2a6"
      },
      "execution_count": 12,
      "outputs": [
        {
          "output_type": "stream",
          "name": "stdout",
          "text": [
            "[[0.81956216]\n",
            " [0.57299028]]\n"
          ]
        }
      ]
    },
    {
      "cell_type": "markdown",
      "source": [
        "Transform the data"
      ],
      "metadata": {
        "id": "PCaTG57eD9Zd"
      }
    },
    {
      "cell_type": "code",
      "source": [
        "#project datapoint on line in dirn of above eigen vector->largest eigen value\n",
        "X_reduced=np.dot(evec_subset.T,X_meaned.T).T\n",
        "print(X_reduced) #2D->1D"
      ],
      "metadata": {
        "colab": {
          "base_uri": "https://localhost:8080/"
        },
        "collapsed": true,
        "id": "-2CSNVbIDz4h",
        "outputId": "275f3b46-4a20-4de4-a51b-373396cc5b4c"
      },
      "execution_count": 16,
      "outputs": [
        {
          "output_type": "stream",
          "name": "stdout",
          "text": [
            "[[-16.53258291]\n",
            " [-13.74747803]\n",
            " [ -9.81639259]\n",
            " [ -6.45829743]\n",
            " [ -4.24618282]\n",
            " [  0.17804639]\n",
            " [  6.48797183]\n",
            " [  7.0609621 ]\n",
            " [  9.02650482]\n",
            " [ 12.05818159]\n",
            " [ 15.98926703]]\n"
          ]
        }
      ]
    },
    {
      "cell_type": "markdown",
      "source": [
        "#**Direct Method to Calculate PCA**"
      ],
      "metadata": {
        "id": "ihFpOyn7E6zL"
      }
    },
    {
      "cell_type": "code",
      "source": [
        "from sklearn.decomposition import PCA\n",
        "pca=PCA(n_components=1) #object of PCA , (2D->1D) as n=1\n",
        "pca.fit(X_meaned) # learn Principle Eigen Vector\n",
        "Xr=pca.transform(X_meaned) #project original data to reduced dimensional Space\n",
        "print(Xr)"
      ],
      "metadata": {
        "colab": {
          "base_uri": "https://localhost:8080/"
        },
        "collapsed": true,
        "id": "sIDUf3BzESMq",
        "outputId": "cccffb8d-7007-4e62-b463-b639e0d134fb"
      },
      "execution_count": 17,
      "outputs": [
        {
          "output_type": "stream",
          "name": "stdout",
          "text": [
            "[[-16.53258291]\n",
            " [-13.74747803]\n",
            " [ -9.81639259]\n",
            " [ -6.45829743]\n",
            " [ -4.24618282]\n",
            " [  0.17804639]\n",
            " [  6.48797183]\n",
            " [  7.0609621 ]\n",
            " [  9.02650482]\n",
            " [ 12.05818159]\n",
            " [ 15.98926703]]\n"
          ]
        }
      ]
    },
    {
      "cell_type": "markdown",
      "source": [
        "#**Iris Dataset(4D->2D using PCA)**"
      ],
      "metadata": {
        "id": "RCOgVrh_Ip65"
      }
    },
    {
      "cell_type": "code",
      "source": [
        "from sklearn import datasets\n",
        "iris=datasets.load_iris()"
      ],
      "metadata": {
        "id": "EufhLSsnIwbO"
      },
      "execution_count": 22,
      "outputs": []
    },
    {
      "cell_type": "code",
      "source": [
        "iris.get(\"feature_names\")"
      ],
      "metadata": {
        "colab": {
          "base_uri": "https://localhost:8080/"
        },
        "collapsed": true,
        "id": "SxCSCzwQJBL2",
        "outputId": "4104efb1-2a1e-4586-e518-9c41cf6af520"
      },
      "execution_count": 24,
      "outputs": [
        {
          "output_type": "execute_result",
          "data": {
            "text/plain": [
              "['sepal length (cm)',\n",
              " 'sepal width (cm)',\n",
              " 'petal length (cm)',\n",
              " 'petal width (cm)']"
            ]
          },
          "metadata": {},
          "execution_count": 24
        }
      ]
    },
    {
      "cell_type": "code",
      "source": [
        "iris.data #150x4 Matrix (feature=4 Sample=150)"
      ],
      "metadata": {
        "colab": {
          "base_uri": "https://localhost:8080/"
        },
        "collapsed": true,
        "id": "hU_rDYQHJFEu",
        "outputId": "82b6cadf-874d-48c7-cbfa-244a7b16e19c"
      },
      "execution_count": 26,
      "outputs": [
        {
          "output_type": "execute_result",
          "data": {
            "text/plain": [
              "array([[5.1, 3.5, 1.4, 0.2],\n",
              "       [4.9, 3. , 1.4, 0.2],\n",
              "       [4.7, 3.2, 1.3, 0.2],\n",
              "       [4.6, 3.1, 1.5, 0.2],\n",
              "       [5. , 3.6, 1.4, 0.2],\n",
              "       [5.4, 3.9, 1.7, 0.4],\n",
              "       [4.6, 3.4, 1.4, 0.3],\n",
              "       [5. , 3.4, 1.5, 0.2],\n",
              "       [4.4, 2.9, 1.4, 0.2],\n",
              "       [4.9, 3.1, 1.5, 0.1],\n",
              "       [5.4, 3.7, 1.5, 0.2],\n",
              "       [4.8, 3.4, 1.6, 0.2],\n",
              "       [4.8, 3. , 1.4, 0.1],\n",
              "       [4.3, 3. , 1.1, 0.1],\n",
              "       [5.8, 4. , 1.2, 0.2],\n",
              "       [5.7, 4.4, 1.5, 0.4],\n",
              "       [5.4, 3.9, 1.3, 0.4],\n",
              "       [5.1, 3.5, 1.4, 0.3],\n",
              "       [5.7, 3.8, 1.7, 0.3],\n",
              "       [5.1, 3.8, 1.5, 0.3],\n",
              "       [5.4, 3.4, 1.7, 0.2],\n",
              "       [5.1, 3.7, 1.5, 0.4],\n",
              "       [4.6, 3.6, 1. , 0.2],\n",
              "       [5.1, 3.3, 1.7, 0.5],\n",
              "       [4.8, 3.4, 1.9, 0.2],\n",
              "       [5. , 3. , 1.6, 0.2],\n",
              "       [5. , 3.4, 1.6, 0.4],\n",
              "       [5.2, 3.5, 1.5, 0.2],\n",
              "       [5.2, 3.4, 1.4, 0.2],\n",
              "       [4.7, 3.2, 1.6, 0.2],\n",
              "       [4.8, 3.1, 1.6, 0.2],\n",
              "       [5.4, 3.4, 1.5, 0.4],\n",
              "       [5.2, 4.1, 1.5, 0.1],\n",
              "       [5.5, 4.2, 1.4, 0.2],\n",
              "       [4.9, 3.1, 1.5, 0.2],\n",
              "       [5. , 3.2, 1.2, 0.2],\n",
              "       [5.5, 3.5, 1.3, 0.2],\n",
              "       [4.9, 3.6, 1.4, 0.1],\n",
              "       [4.4, 3. , 1.3, 0.2],\n",
              "       [5.1, 3.4, 1.5, 0.2],\n",
              "       [5. , 3.5, 1.3, 0.3],\n",
              "       [4.5, 2.3, 1.3, 0.3],\n",
              "       [4.4, 3.2, 1.3, 0.2],\n",
              "       [5. , 3.5, 1.6, 0.6],\n",
              "       [5.1, 3.8, 1.9, 0.4],\n",
              "       [4.8, 3. , 1.4, 0.3],\n",
              "       [5.1, 3.8, 1.6, 0.2],\n",
              "       [4.6, 3.2, 1.4, 0.2],\n",
              "       [5.3, 3.7, 1.5, 0.2],\n",
              "       [5. , 3.3, 1.4, 0.2],\n",
              "       [7. , 3.2, 4.7, 1.4],\n",
              "       [6.4, 3.2, 4.5, 1.5],\n",
              "       [6.9, 3.1, 4.9, 1.5],\n",
              "       [5.5, 2.3, 4. , 1.3],\n",
              "       [6.5, 2.8, 4.6, 1.5],\n",
              "       [5.7, 2.8, 4.5, 1.3],\n",
              "       [6.3, 3.3, 4.7, 1.6],\n",
              "       [4.9, 2.4, 3.3, 1. ],\n",
              "       [6.6, 2.9, 4.6, 1.3],\n",
              "       [5.2, 2.7, 3.9, 1.4],\n",
              "       [5. , 2. , 3.5, 1. ],\n",
              "       [5.9, 3. , 4.2, 1.5],\n",
              "       [6. , 2.2, 4. , 1. ],\n",
              "       [6.1, 2.9, 4.7, 1.4],\n",
              "       [5.6, 2.9, 3.6, 1.3],\n",
              "       [6.7, 3.1, 4.4, 1.4],\n",
              "       [5.6, 3. , 4.5, 1.5],\n",
              "       [5.8, 2.7, 4.1, 1. ],\n",
              "       [6.2, 2.2, 4.5, 1.5],\n",
              "       [5.6, 2.5, 3.9, 1.1],\n",
              "       [5.9, 3.2, 4.8, 1.8],\n",
              "       [6.1, 2.8, 4. , 1.3],\n",
              "       [6.3, 2.5, 4.9, 1.5],\n",
              "       [6.1, 2.8, 4.7, 1.2],\n",
              "       [6.4, 2.9, 4.3, 1.3],\n",
              "       [6.6, 3. , 4.4, 1.4],\n",
              "       [6.8, 2.8, 4.8, 1.4],\n",
              "       [6.7, 3. , 5. , 1.7],\n",
              "       [6. , 2.9, 4.5, 1.5],\n",
              "       [5.7, 2.6, 3.5, 1. ],\n",
              "       [5.5, 2.4, 3.8, 1.1],\n",
              "       [5.5, 2.4, 3.7, 1. ],\n",
              "       [5.8, 2.7, 3.9, 1.2],\n",
              "       [6. , 2.7, 5.1, 1.6],\n",
              "       [5.4, 3. , 4.5, 1.5],\n",
              "       [6. , 3.4, 4.5, 1.6],\n",
              "       [6.7, 3.1, 4.7, 1.5],\n",
              "       [6.3, 2.3, 4.4, 1.3],\n",
              "       [5.6, 3. , 4.1, 1.3],\n",
              "       [5.5, 2.5, 4. , 1.3],\n",
              "       [5.5, 2.6, 4.4, 1.2],\n",
              "       [6.1, 3. , 4.6, 1.4],\n",
              "       [5.8, 2.6, 4. , 1.2],\n",
              "       [5. , 2.3, 3.3, 1. ],\n",
              "       [5.6, 2.7, 4.2, 1.3],\n",
              "       [5.7, 3. , 4.2, 1.2],\n",
              "       [5.7, 2.9, 4.2, 1.3],\n",
              "       [6.2, 2.9, 4.3, 1.3],\n",
              "       [5.1, 2.5, 3. , 1.1],\n",
              "       [5.7, 2.8, 4.1, 1.3],\n",
              "       [6.3, 3.3, 6. , 2.5],\n",
              "       [5.8, 2.7, 5.1, 1.9],\n",
              "       [7.1, 3. , 5.9, 2.1],\n",
              "       [6.3, 2.9, 5.6, 1.8],\n",
              "       [6.5, 3. , 5.8, 2.2],\n",
              "       [7.6, 3. , 6.6, 2.1],\n",
              "       [4.9, 2.5, 4.5, 1.7],\n",
              "       [7.3, 2.9, 6.3, 1.8],\n",
              "       [6.7, 2.5, 5.8, 1.8],\n",
              "       [7.2, 3.6, 6.1, 2.5],\n",
              "       [6.5, 3.2, 5.1, 2. ],\n",
              "       [6.4, 2.7, 5.3, 1.9],\n",
              "       [6.8, 3. , 5.5, 2.1],\n",
              "       [5.7, 2.5, 5. , 2. ],\n",
              "       [5.8, 2.8, 5.1, 2.4],\n",
              "       [6.4, 3.2, 5.3, 2.3],\n",
              "       [6.5, 3. , 5.5, 1.8],\n",
              "       [7.7, 3.8, 6.7, 2.2],\n",
              "       [7.7, 2.6, 6.9, 2.3],\n",
              "       [6. , 2.2, 5. , 1.5],\n",
              "       [6.9, 3.2, 5.7, 2.3],\n",
              "       [5.6, 2.8, 4.9, 2. ],\n",
              "       [7.7, 2.8, 6.7, 2. ],\n",
              "       [6.3, 2.7, 4.9, 1.8],\n",
              "       [6.7, 3.3, 5.7, 2.1],\n",
              "       [7.2, 3.2, 6. , 1.8],\n",
              "       [6.2, 2.8, 4.8, 1.8],\n",
              "       [6.1, 3. , 4.9, 1.8],\n",
              "       [6.4, 2.8, 5.6, 2.1],\n",
              "       [7.2, 3. , 5.8, 1.6],\n",
              "       [7.4, 2.8, 6.1, 1.9],\n",
              "       [7.9, 3.8, 6.4, 2. ],\n",
              "       [6.4, 2.8, 5.6, 2.2],\n",
              "       [6.3, 2.8, 5.1, 1.5],\n",
              "       [6.1, 2.6, 5.6, 1.4],\n",
              "       [7.7, 3. , 6.1, 2.3],\n",
              "       [6.3, 3.4, 5.6, 2.4],\n",
              "       [6.4, 3.1, 5.5, 1.8],\n",
              "       [6. , 3. , 4.8, 1.8],\n",
              "       [6.9, 3.1, 5.4, 2.1],\n",
              "       [6.7, 3.1, 5.6, 2.4],\n",
              "       [6.9, 3.1, 5.1, 2.3],\n",
              "       [5.8, 2.7, 5.1, 1.9],\n",
              "       [6.8, 3.2, 5.9, 2.3],\n",
              "       [6.7, 3.3, 5.7, 2.5],\n",
              "       [6.7, 3. , 5.2, 2.3],\n",
              "       [6.3, 2.5, 5. , 1.9],\n",
              "       [6.5, 3. , 5.2, 2. ],\n",
              "       [6.2, 3.4, 5.4, 2.3],\n",
              "       [5.9, 3. , 5.1, 1.8]])"
            ]
          },
          "metadata": {},
          "execution_count": 26
        }
      ]
    },
    {
      "cell_type": "code",
      "source": [
        "iris.target #output(which Class)"
      ],
      "metadata": {
        "colab": {
          "base_uri": "https://localhost:8080/"
        },
        "collapsed": true,
        "id": "oe6EWqM5JWUW",
        "outputId": "8ea6a841-df0f-4f13-840a-3e0b53aebff9"
      },
      "execution_count": 28,
      "outputs": [
        {
          "output_type": "execute_result",
          "data": {
            "text/plain": [
              "array([0, 0, 0, 0, 0, 0, 0, 0, 0, 0, 0, 0, 0, 0, 0, 0, 0, 0, 0, 0, 0, 0,\n",
              "       0, 0, 0, 0, 0, 0, 0, 0, 0, 0, 0, 0, 0, 0, 0, 0, 0, 0, 0, 0, 0, 0,\n",
              "       0, 0, 0, 0, 0, 0, 1, 1, 1, 1, 1, 1, 1, 1, 1, 1, 1, 1, 1, 1, 1, 1,\n",
              "       1, 1, 1, 1, 1, 1, 1, 1, 1, 1, 1, 1, 1, 1, 1, 1, 1, 1, 1, 1, 1, 1,\n",
              "       1, 1, 1, 1, 1, 1, 1, 1, 1, 1, 1, 1, 2, 2, 2, 2, 2, 2, 2, 2, 2, 2,\n",
              "       2, 2, 2, 2, 2, 2, 2, 2, 2, 2, 2, 2, 2, 2, 2, 2, 2, 2, 2, 2, 2, 2,\n",
              "       2, 2, 2, 2, 2, 2, 2, 2, 2, 2, 2, 2, 2, 2, 2, 2, 2, 2])"
            ]
          },
          "metadata": {},
          "execution_count": 28
        }
      ]
    },
    {
      "cell_type": "code",
      "source": [
        "from sklearn.decomposition import PCA\n",
        "pca=PCA(n_components=2) #object of PCA , (4D->2D) as n=2\n",
        "pca.fit(iris.data) # learn Principle Eigen Vector\n",
        "Xr=pca.transform(iris.data) #project original data to reduced dimensional Space\n",
        "print(Xr)"
      ],
      "metadata": {
        "colab": {
          "base_uri": "https://localhost:8080/"
        },
        "collapsed": true,
        "id": "BejJCqgfJf8Y",
        "outputId": "34b3197c-2fe5-4235-a17b-5e36f367cd7d"
      },
      "execution_count": 29,
      "outputs": [
        {
          "output_type": "stream",
          "name": "stdout",
          "text": [
            "[[-2.68412563  0.31939725]\n",
            " [-2.71414169 -0.17700123]\n",
            " [-2.88899057 -0.14494943]\n",
            " [-2.74534286 -0.31829898]\n",
            " [-2.72871654  0.32675451]\n",
            " [-2.28085963  0.74133045]\n",
            " [-2.82053775 -0.08946138]\n",
            " [-2.62614497  0.16338496]\n",
            " [-2.88638273 -0.57831175]\n",
            " [-2.6727558  -0.11377425]\n",
            " [-2.50694709  0.6450689 ]\n",
            " [-2.61275523  0.01472994]\n",
            " [-2.78610927 -0.235112  ]\n",
            " [-3.22380374 -0.51139459]\n",
            " [-2.64475039  1.17876464]\n",
            " [-2.38603903  1.33806233]\n",
            " [-2.62352788  0.81067951]\n",
            " [-2.64829671  0.31184914]\n",
            " [-2.19982032  0.87283904]\n",
            " [-2.5879864   0.51356031]\n",
            " [-2.31025622  0.39134594]\n",
            " [-2.54370523  0.43299606]\n",
            " [-3.21593942  0.13346807]\n",
            " [-2.30273318  0.09870885]\n",
            " [-2.35575405 -0.03728186]\n",
            " [-2.50666891 -0.14601688]\n",
            " [-2.46882007  0.13095149]\n",
            " [-2.56231991  0.36771886]\n",
            " [-2.63953472  0.31203998]\n",
            " [-2.63198939 -0.19696122]\n",
            " [-2.58739848 -0.20431849]\n",
            " [-2.4099325   0.41092426]\n",
            " [-2.64886233  0.81336382]\n",
            " [-2.59873675  1.09314576]\n",
            " [-2.63692688 -0.12132235]\n",
            " [-2.86624165  0.06936447]\n",
            " [-2.62523805  0.59937002]\n",
            " [-2.80068412  0.26864374]\n",
            " [-2.98050204 -0.48795834]\n",
            " [-2.59000631  0.22904384]\n",
            " [-2.77010243  0.26352753]\n",
            " [-2.84936871 -0.94096057]\n",
            " [-2.99740655 -0.34192606]\n",
            " [-2.40561449  0.18887143]\n",
            " [-2.20948924  0.43666314]\n",
            " [-2.71445143 -0.2502082 ]\n",
            " [-2.53814826  0.50377114]\n",
            " [-2.83946217 -0.22794557]\n",
            " [-2.54308575  0.57941002]\n",
            " [-2.70335978  0.10770608]\n",
            " [ 1.28482569  0.68516047]\n",
            " [ 0.93248853  0.31833364]\n",
            " [ 1.46430232  0.50426282]\n",
            " [ 0.18331772 -0.82795901]\n",
            " [ 1.08810326  0.07459068]\n",
            " [ 0.64166908 -0.41824687]\n",
            " [ 1.09506066  0.28346827]\n",
            " [-0.74912267 -1.00489096]\n",
            " [ 1.04413183  0.2283619 ]\n",
            " [-0.0087454  -0.72308191]\n",
            " [-0.50784088 -1.26597119]\n",
            " [ 0.51169856 -0.10398124]\n",
            " [ 0.26497651 -0.55003646]\n",
            " [ 0.98493451 -0.12481785]\n",
            " [-0.17392537 -0.25485421]\n",
            " [ 0.92786078  0.46717949]\n",
            " [ 0.66028376 -0.35296967]\n",
            " [ 0.23610499 -0.33361077]\n",
            " [ 0.94473373 -0.54314555]\n",
            " [ 0.04522698 -0.58383438]\n",
            " [ 1.11628318 -0.08461685]\n",
            " [ 0.35788842 -0.06892503]\n",
            " [ 1.29818388 -0.32778731]\n",
            " [ 0.92172892 -0.18273779]\n",
            " [ 0.71485333  0.14905594]\n",
            " [ 0.90017437  0.32850447]\n",
            " [ 1.33202444  0.24444088]\n",
            " [ 1.55780216  0.26749545]\n",
            " [ 0.81329065 -0.1633503 ]\n",
            " [-0.30558378 -0.36826219]\n",
            " [-0.06812649 -0.70517213]\n",
            " [-0.18962247 -0.68028676]\n",
            " [ 0.13642871 -0.31403244]\n",
            " [ 1.38002644 -0.42095429]\n",
            " [ 0.58800644 -0.48428742]\n",
            " [ 0.80685831  0.19418231]\n",
            " [ 1.22069088  0.40761959]\n",
            " [ 0.81509524 -0.37203706]\n",
            " [ 0.24595768 -0.2685244 ]\n",
            " [ 0.16641322 -0.68192672]\n",
            " [ 0.46480029 -0.67071154]\n",
            " [ 0.8908152  -0.03446444]\n",
            " [ 0.23054802 -0.40438585]\n",
            " [-0.70453176 -1.01224823]\n",
            " [ 0.35698149 -0.50491009]\n",
            " [ 0.33193448 -0.21265468]\n",
            " [ 0.37621565 -0.29321893]\n",
            " [ 0.64257601  0.01773819]\n",
            " [-0.90646986 -0.75609337]\n",
            " [ 0.29900084 -0.34889781]\n",
            " [ 2.53119273 -0.00984911]\n",
            " [ 1.41523588 -0.57491635]\n",
            " [ 2.61667602  0.34390315]\n",
            " [ 1.97153105 -0.1797279 ]\n",
            " [ 2.35000592 -0.04026095]\n",
            " [ 3.39703874  0.55083667]\n",
            " [ 0.52123224 -1.19275873]\n",
            " [ 2.93258707  0.3555    ]\n",
            " [ 2.32122882 -0.2438315 ]\n",
            " [ 2.91675097  0.78279195]\n",
            " [ 1.66177415  0.24222841]\n",
            " [ 1.80340195 -0.21563762]\n",
            " [ 2.1655918   0.21627559]\n",
            " [ 1.34616358 -0.77681835]\n",
            " [ 1.58592822 -0.53964071]\n",
            " [ 1.90445637  0.11925069]\n",
            " [ 1.94968906  0.04194326]\n",
            " [ 3.48705536  1.17573933]\n",
            " [ 3.79564542  0.25732297]\n",
            " [ 1.30079171 -0.76114964]\n",
            " [ 2.42781791  0.37819601]\n",
            " [ 1.19900111 -0.60609153]\n",
            " [ 3.49992004  0.4606741 ]\n",
            " [ 1.38876613 -0.20439933]\n",
            " [ 2.2754305   0.33499061]\n",
            " [ 2.61409047  0.56090136]\n",
            " [ 1.25850816 -0.17970479]\n",
            " [ 1.29113206 -0.11666865]\n",
            " [ 2.12360872 -0.20972948]\n",
            " [ 2.38800302  0.4646398 ]\n",
            " [ 2.84167278  0.37526917]\n",
            " [ 3.23067366  1.37416509]\n",
            " [ 2.15943764 -0.21727758]\n",
            " [ 1.44416124 -0.14341341]\n",
            " [ 1.78129481 -0.49990168]\n",
            " [ 3.07649993  0.68808568]\n",
            " [ 2.14424331  0.1400642 ]\n",
            " [ 1.90509815  0.04930053]\n",
            " [ 1.16932634 -0.16499026]\n",
            " [ 2.10761114  0.37228787]\n",
            " [ 2.31415471  0.18365128]\n",
            " [ 1.9222678   0.40920347]\n",
            " [ 1.41523588 -0.57491635]\n",
            " [ 2.56301338  0.2778626 ]\n",
            " [ 2.41874618  0.3047982 ]\n",
            " [ 1.94410979  0.1875323 ]\n",
            " [ 1.52716661 -0.37531698]\n",
            " [ 1.76434572  0.07885885]\n",
            " [ 1.90094161  0.11662796]\n",
            " [ 1.39018886 -0.28266094]]\n"
          ]
        }
      ]
    },
    {
      "cell_type": "code",
      "source": [
        "plt.scatter(Xr[:,0],Xr[:,1],c=iris.target)\n",
        "plt.scatter([Xr[10][0]],[Xr[10][1]],s=[200],c=[\"r\"],alpha=0.5)\n",
        "#diffrent color->diff Class"
      ],
      "metadata": {
        "colab": {
          "base_uri": "https://localhost:8080/",
          "height": 452
        },
        "id": "spQJat8vJ4XR",
        "outputId": "95f80fdb-8db9-4294-8546-c3e85133baed"
      },
      "execution_count": 33,
      "outputs": [
        {
          "output_type": "execute_result",
          "data": {
            "text/plain": [
              "<matplotlib.collections.PathCollection at 0x7891360c01a0>"
            ]
          },
          "metadata": {},
          "execution_count": 33
        },
        {
          "output_type": "display_data",
          "data": {
            "text/plain": [
              "<Figure size 640x480 with 1 Axes>"
            ],
            "image/png": "[encoded data removed]"
          },
          "metadata": {}
        }
      ]
    },
    {
      "cell_type": "code",
      "source": [],
      "metadata": {
        "id": "cMJiAT9gKZBQ"
      },
      "execution_count": null,
      "outputs": []
    }
  ]
}